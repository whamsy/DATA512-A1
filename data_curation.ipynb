{
 "cells": [
  {
   "cell_type": "markdown",
   "metadata": {},
   "source": [
    "# <center> A1 - Data Curation </center>"
   ]
  },
  {
   "cell_type": "markdown",
   "metadata": {},
   "source": [
    "## Part 1 - Data Acquisition"
   ]
  },
  {
   "cell_type": "code",
   "execution_count": 1,
   "metadata": {},
   "outputs": [],
   "source": [
    "import json\n",
    "import requests"
   ]
  },
  {
   "cell_type": "code",
   "execution_count": 4,
   "metadata": {},
   "outputs": [],
   "source": [
    "def call_api(endpoint,parameters):\n",
    "    call = requests.get(endpoint.format(**parameters), headers=headers)\n",
    "    response = call.json()\n",
    "    return response\n",
    "\n",
    "headers = {\n",
    "    'User-Agent': 'https://github.com/whamsy',\n",
    "    'From': 'whamsy@uw.edu'\n",
    "}"
   ]
  },
  {
   "cell_type": "markdown",
   "metadata": {},
   "source": [
    "### Legacy Page Counts Data -- (December 2007 to July 2016)"
   ]
  },
  {
   "cell_type": "markdown",
   "metadata": {},
   "source": [
    "First getting the legacy data for Desktop Site usage and dumping to JSON:"
   ]
  },
  {
   "cell_type": "code",
   "execution_count": 5,
   "metadata": {},
   "outputs": [],
   "source": [
    "pagecounts_api = 'https://wikimedia.org/api/rest_v1/metrics/legacy/pagecounts/aggregate/{project}/{access}/{granularity}/{start}/{end}'\n",
    "\n",
    "legacy_desktop_params = {\n",
    "                    'project' : 'en.wikipedia.org',\n",
    "                    'access' : 'desktop-site',\n",
    "                    'granularity' : 'monthly',\n",
    "                    'start' : '2008010100',\n",
    "                    'end' : '2016080100'\n",
    "                    }\n",
    "\n",
    "desktop_data = call_api(pagecounts_api, legacy_desktop_params)\n",
    "with open('pagecounts_desktop-site_200801-201607.json', 'w') as outfile:\n",
    "    json.dump(desktop_data, outfile)"
   ]
  },
  {
   "cell_type": "markdown",
   "metadata": {},
   "source": [
    "Next getting the legacy data for Mobile Site usage and dumping to JSON:"
   ]
  },
  {
   "cell_type": "code",
   "execution_count": 6,
   "metadata": {},
   "outputs": [],
   "source": [
    "pagecounts_api = 'https://wikimedia.org/api/rest_v1/metrics/legacy/pagecounts/aggregate/{project}/{access}/{granularity}/{start}/{end}'\n",
    "\n",
    "legacy_mobile_params = {\n",
    "                    'project' : 'en.wikipedia.org',\n",
    "                    'access' : 'mobile-site',\n",
    "                    'granularity' : 'monthly',\n",
    "                    'start' : '2008010100',\n",
    "                    'end' : '2016080100'\n",
    "                    }\n",
    "\n",
    "mobile_data = call_api(pagecounts_api, legacy_mobile_params)\n",
    "with open('pagecounts_mobile-site_200801-201607.json', 'w') as outfile:\n",
    "    json.dump(mobile_data, outfile)"
   ]
  },
  {
   "cell_type": "markdown",
   "metadata": {},
   "source": [
    "### Page Views Data -- (July 2015 to Sep 2018)"
   ]
  },
  {
   "cell_type": "markdown",
   "metadata": {},
   "source": [
    "Note: Filtering Data by agent : user to get only organic traffic"
   ]
  },
  {
   "cell_type": "markdown",
   "metadata": {},
   "source": [
    "First getting the Pageviews data for Desktop usage and dumping to JSON:"
   ]
  },
  {
   "cell_type": "code",
   "execution_count": 7,
   "metadata": {},
   "outputs": [],
   "source": [
    "pageviews_api = 'https://wikimedia.org/api/rest_v1/metrics/pageviews/aggregate/{project}/{access}/{agent}/{granularity}/{start}/{end}'\n",
    "\n",
    "pageviews_desktop_params = {\n",
    "        'project' : 'en.wikipedia.org',\n",
    "        'access' : 'desktop',\n",
    "        'agent' : 'user',\n",
    "        'granularity' : 'monthly',\n",
    "        'start' : '2015070100',\n",
    "        'end' : '2018100100'\n",
    "        }\n",
    "\n",
    "desktop_data_pageviews = call_api(pageviews_api, pageviews_desktop_params)\n",
    "with open('pageviews_desktop-site_201507-201809.json', 'w') as outfile:\n",
    "    json.dump(desktop_data_pageviews, outfile)"
   ]
  },
  {
   "cell_type": "markdown",
   "metadata": {},
   "source": [
    "Next getting the Pageviews data for Mobile Web usage and dumping to JSON:"
   ]
  },
  {
   "cell_type": "code",
   "execution_count": 8,
   "metadata": {},
   "outputs": [],
   "source": [
    "pageviews_api = 'https://wikimedia.org/api/rest_v1/metrics/pageviews/aggregate/{project}/{access}/{agent}/{granularity}/{start}/{end}'\n",
    "\n",
    "pageviews_mobile_web_params = {\n",
    "        'project' : 'en.wikipedia.org',\n",
    "        'access' : 'mobile-web',\n",
    "        'agent' : 'user',\n",
    "        'granularity' : 'monthly',\n",
    "        'start' : '2015070100',\n",
    "        'end' : '2018100100'\n",
    "        }\n",
    "\n",
    "mobile_web_data_pageviews = call_api(pageviews_api, pageviews_mobile_web_params)\n",
    "with open('pageviews_mobile-web_201507-201809.json', 'w') as outfile:\n",
    "    json.dump(mobile_web_data_pageviews, outfile)\n",
    "    "
   ]
  },
  {
   "cell_type": "markdown",
   "metadata": {},
   "source": [
    "Finally getting the Pageviews data for Mobile App usage and dumping to JSON:"
   ]
  },
  {
   "cell_type": "code",
   "execution_count": 9,
   "metadata": {},
   "outputs": [],
   "source": [
    "pageviews_api = 'https://wikimedia.org/api/rest_v1/metrics/pageviews/aggregate/{project}/{access}/{agent}/{granularity}/{start}/{end}'\n",
    "\n",
    "pageviews_mobile_app_params = {\n",
    "        'project' : 'en.wikipedia.org',\n",
    "        'access' : 'mobile-app',\n",
    "        'agent' : 'user',\n",
    "        'granularity' : 'monthly',\n",
    "        'start' : '2015070100',\n",
    "        'end' : '2018100100'\n",
    "        }\n",
    "\n",
    "mobile_app_data_pageviews = call_api(pageviews_api, pageviews_mobile_app_params)\n",
    "with open('pageviews_mobile-app_201507-201809.json', 'w') as outfile:\n",
    "    json.dump(mobile_app_data_pageviews, outfile)"
   ]
  },
  {
   "cell_type": "markdown",
   "metadata": {},
   "source": [
    "## Part 2 - Data Processing"
   ]
  },
  {
   "cell_type": "markdown",
   "metadata": {},
   "source": [
    "### Combine the monthly values for mobile-app and mobile-web from PageViews"
   ]
  },
  {
   "cell_type": "code",
   "execution_count": 13,
   "metadata": {},
   "outputs": [],
   "source": [
    "import json \n",
    "import pandas as pd \n",
    "from pandas.io.json import json_normalize"
   ]
  },
  {
   "cell_type": "code",
   "execution_count": 24,
   "metadata": {},
   "outputs": [],
   "source": [
    "with open('pageviews_mobile-app_201507-201809.json') as f1:\n",
    "    d1 = json.load(f1)\n",
    "    \n",
    "pv_mobile_app_data = json_normalize(d1['items'])"
   ]
  },
  {
   "cell_type": "code",
   "execution_count": 25,
   "metadata": {},
   "outputs": [],
   "source": [
    "with open('pageviews_mobile-web_201507-201809.json') as f2:\n",
    "    d2 = json.load(f2)\n",
    "    \n",
    "pv_mobile_web_data = json_normalize(d2['items'])"
   ]
  },
  {
   "cell_type": "code",
   "execution_count": 48,
   "metadata": {},
   "outputs": [],
   "source": [
    "pv_mobile_traffic_data = pv_mobile_app_data\n",
    "pv_mobile_traffic_data['views'] += pv_mobile_web_data['views']"
   ]
  },
  {
   "cell_type": "markdown",
   "metadata": {},
   "source": [
    "The pv_mobile_traffic dataframe now has combined views for both mobile web data and mobile app data. Now converting the rest into dataframes:"
   ]
  },
  {
   "cell_type": "code",
   "execution_count": 31,
   "metadata": {},
   "outputs": [],
   "source": [
    "with open('pagecounts_desktop-site_200801-201607.json') as f3:\n",
    "    d3 = json.load(f3)\n",
    "    \n",
    "pagecount_desktop_site_data = json_normalize(d3['items'])\n",
    "\n",
    "with open('pagecounts_mobile-site_200801-201607.json') as f4:\n",
    "    d4 = json.load(f4)\n",
    "    \n",
    "pagecount_mobile_site_data = json_normalize(d4['items'])\n",
    "\n",
    "with open('pageviews_desktop-site_201507-201809.json') as f5:\n",
    "    d5 = json.load(f5)\n",
    "    \n",
    "pv_desktop_site_data = json_normalize(d5['items'])"
   ]
  },
  {
   "cell_type": "markdown",
   "metadata": {},
   "source": [
    "Now we have 4 dataframes from the 5 JSON files created earlier."
   ]
  },
  {
   "cell_type": "markdown",
   "metadata": {},
   "source": [
    "### Splitting the timestamp into month and year"
   ]
  },
  {
   "cell_type": "code",
   "execution_count": 49,
   "metadata": {},
   "outputs": [],
   "source": [
    "pagecount_desktop_site_data['year'] = pagecount_desktop_site_data['timestamp'].str[0:4]\n",
    "pagecount_desktop_site_data['month'] = pagecount_desktop_site_data['timestamp'].str[4:6]\n",
    "\n",
    "pagecount_mobile_site_data['year'] = pagecount_mobile_site_data['timestamp'].str[0:4]\n",
    "pagecount_mobile_site_data['month'] = pagecount_mobile_site_data['timestamp'].str[4:6]\n",
    "\n",
    "pv_desktop_site_data['year'] = pv_desktop_site_data['timestamp'].str[0:4]\n",
    "pv_desktop_site_data['month'] = pv_desktop_site_data['timestamp'].str[4:6]\n",
    "\n",
    "pv_mobile_traffic_data['year'] = pv_mobile_traffic_data['timestamp'].str[0:4]\n",
    "pv_mobile_traffic_data['month'] = pv_mobile_traffic_data['timestamp'].str[4:6]"
   ]
  },
  {
   "cell_type": "markdown",
   "metadata": {},
   "source": [
    "### Combining all these dataframes into one csv file"
   ]
  },
  {
   "cell_type": "code",
   "execution_count": null,
   "metadata": {},
   "outputs": [],
   "source": []
  }
 ],
 "metadata": {
  "kernelspec": {
   "display_name": "Python 3",
   "language": "python",
   "name": "python3"
  },
  "language_info": {
   "codemirror_mode": {
    "name": "ipython",
    "version": 3
   },
   "file_extension": ".py",
   "mimetype": "text/x-python",
   "name": "python",
   "nbconvert_exporter": "python",
   "pygments_lexer": "ipython3",
   "version": "3.6.5"
  }
 },
 "nbformat": 4,
 "nbformat_minor": 2
}
